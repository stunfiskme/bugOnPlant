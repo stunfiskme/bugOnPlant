{
 "cells": [
  {
   "cell_type": "markdown",
   "id": "a2a04bd1",
   "metadata": {},
   "source": [
    "\n",
    "Tensors are a specialized data structure that are very similar to arrays and matrices. In PyTorch, we use tensors to encode the inputs and outputs of a model, as well as the model’s parameters.\n",
    "\n",
    "Tensors are similar to NumPy’s ndarrays, except that tensors can run on GPUs or other hardware accelerators. In fact, tensors and NumPy arrays can often share the same underlying memory, eliminating the need to copy data. Tensors are also optimized for automatic differentiation."
   ]
  },
  {
   "cell_type": "markdown",
   "id": "60f052da",
   "metadata": {},
   "source": [
    "This code creates a tensor with all 0 values "
   ]
  },
  {
   "cell_type": "code",
   "execution_count": 11,
   "id": "a7a1b1dc",
   "metadata": {},
   "outputs": [
    {
     "name": "stdout",
     "output_type": "stream",
     "text": [
      "tensor([[[-6.4767e+09,  1.4195e-42,  0.0000e+00],\n",
      "         [ 0.0000e+00,  0.0000e+00,  0.0000e+00],\n",
      "         [ 0.0000e+00,  0.0000e+00,  0.0000e+00],\n",
      "         [ 0.0000e+00,  0.0000e+00,  0.0000e+00]],\n",
      "\n",
      "        [[ 0.0000e+00,  0.0000e+00,  0.0000e+00],\n",
      "         [ 0.0000e+00,  0.0000e+00,  0.0000e+00],\n",
      "         [ 0.0000e+00,  0.0000e+00,  0.0000e+00],\n",
      "         [ 0.0000e+00,  0.0000e+00,  0.0000e+00]]])\n"
     ]
    }
   ],
   "source": [
    "import torch\n",
    "\n",
    "x = torch.empty(2, 4, 3)\n",
    "print(x)"
   ]
  },
  {
   "cell_type": "markdown",
   "id": "ea9e3161",
   "metadata": {},
   "source": [
    "This code creates a tensor with random values represented as doubles."
   ]
  },
  {
   "cell_type": "code",
   "execution_count": 15,
   "id": "65ec3a09",
   "metadata": {},
   "outputs": [
    {
     "name": "stdout",
     "output_type": "stream",
     "text": [
      "tensor([[[0.7245, 0.8614, 0.0647],\n",
      "         [0.4030, 0.6712, 0.8178],\n",
      "         [0.7883, 0.2454, 0.9307],\n",
      "         [0.4365, 0.2459, 0.6017]],\n",
      "\n",
      "        [[0.7573, 0.6390, 0.8580],\n",
      "         [0.7953, 0.7824, 0.2100],\n",
      "         [0.8401, 0.7777, 0.0861],\n",
      "         [0.2394, 0.9469, 0.0705]]], dtype=torch.float64)\n"
     ]
    }
   ],
   "source": [
    "import torch\n",
    "\n",
    "x = torch.rand(2, 4, 3, dtype=torch.double)\n",
    "print(x)"
   ]
  },
  {
   "cell_type": "markdown",
   "id": "437b63cb",
   "metadata": {},
   "source": [
    "This code creates a tensor with values on 1s represented as integers."
   ]
  },
  {
   "cell_type": "code",
   "execution_count": 20,
   "id": "52e6e795",
   "metadata": {},
   "outputs": [
    {
     "name": "stdout",
     "output_type": "stream",
     "text": [
      "tensor([[[1, 1, 1],\n",
      "         [1, 1, 1],\n",
      "         [1, 1, 1],\n",
      "         [1, 1, 1]],\n",
      "\n",
      "        [[1, 1, 1],\n",
      "         [1, 1, 1],\n",
      "         [1, 1, 1],\n",
      "         [1, 1, 1]]], dtype=torch.int32)\n"
     ]
    }
   ],
   "source": [
    "import torch\n",
    "\n",
    "x = torch.ones(2, 4, 3, dtype=torch.int)\n",
    "print(x)"
   ]
  },
  {
   "cell_type": "markdown",
   "id": "a4694489",
   "metadata": {},
   "source": [
    "This code creates a tensor from a python list and print the tensor, its size/shape, its datatype and the device it made on(cpu or gpu)."
   ]
  },
  {
   "cell_type": "code",
   "execution_count": 24,
   "id": "91c3b25e",
   "metadata": {},
   "outputs": [
    {
     "name": "stdout",
     "output_type": "stream",
     "text": [
      "tensor([2.5000, 0.1000])\n",
      "Shape of tensor: torch.Size([2])\n",
      "Datatype of tensor: torch.float32\n",
      "Device tensor is stored on: cpu\n"
     ]
    }
   ],
   "source": [
    "import torch \n",
    "x = torch.tensor([2.5, 0.1])\n",
    "print(x)\n",
    "print(f\"Shape of tensor: {x.shape}\")\n",
    "print(f\"Datatype of tensor: {x.dtype}\")\n",
    "print(f\"Device tensor is stored on: {x.device}\")"
   ]
  },
  {
   "cell_type": "markdown",
   "id": "25d06f84",
   "metadata": {},
   "source": [
    "This code displays how to add two tensors."
   ]
  },
  {
   "cell_type": "code",
   "execution_count": 35,
   "id": "fe01c6b8",
   "metadata": {},
   "outputs": [
    {
     "name": "stdout",
     "output_type": "stream",
     "text": [
      "tensor([[0.7464, 0.3832],\n",
      "        [0.5978, 0.8889]])\n",
      "tensor([[0.9544, 0.4343],\n",
      "        [0.2757, 0.5043]])\n",
      "\n",
      "tensor([[1.7008, 0.8175],\n",
      "        [0.8735, 1.3932]])\n",
      "\n",
      "tensor([[1.7008, 0.8175],\n",
      "        [0.8735, 1.3932]])\n",
      "\n",
      "tensor([[1.7008, 0.8175],\n",
      "        [0.8735, 1.3932]])\n"
     ]
    }
   ],
   "source": [
    "import torch \n",
    "\n",
    "x = torch.rand(2,2)\n",
    "y = torch.rand(2,2)\n",
    "print(x)\n",
    "print(y)\n",
    "z = x + y\n",
    "z2 = torch.add(x, y)\n",
    "y.add_(x)\n",
    "print()\n",
    "print(z)\n",
    "print()\n",
    "print(z2)\n",
    "print()\n",
    "print(y)"
   ]
  },
  {
   "cell_type": "markdown",
   "id": "cd147298",
   "metadata": {},
   "source": [
    "This code show how to subtract tensors."
   ]
  },
  {
   "cell_type": "code",
   "execution_count": 37,
   "id": "36ca6de8",
   "metadata": {},
   "outputs": [
    {
     "name": "stdout",
     "output_type": "stream",
     "text": [
      "tensor([[0.0285, 0.5922],\n",
      "        [0.8166, 0.1292]])\n",
      "tensor([[0.4000, 0.4097],\n",
      "        [0.1232, 0.8954]])\n",
      "\n",
      "tensor([[-0.3715,  0.1825],\n",
      "        [ 0.6934, -0.7662]])\n",
      "\n",
      "tensor([[-0.3715,  0.1825],\n",
      "        [ 0.6934, -0.7662]])\n",
      "\n",
      "tensor([[ 0.3715, -0.1825],\n",
      "        [-0.6934,  0.7662]])\n"
     ]
    }
   ],
   "source": [
    "import torch \n",
    "\n",
    "x = torch.rand(2,2)\n",
    "y = torch.rand(2,2)\n",
    "print(x)\n",
    "print(y)\n",
    "z = x - y\n",
    "z2 = torch.sub(x, y)\n",
    "y.sub_(x)\n",
    "print()\n",
    "print(z)\n",
    "print()\n",
    "print(z2)\n",
    "print()\n",
    "print(y)"
   ]
  },
  {
   "cell_type": "markdown",
   "id": "88a76ed0",
   "metadata": {},
   "source": [
    "This code shows how to multiply tensors."
   ]
  },
  {
   "cell_type": "code",
   "execution_count": 38,
   "id": "fc0d7f5b",
   "metadata": {},
   "outputs": [
    {
     "name": "stdout",
     "output_type": "stream",
     "text": [
      "tensor([[0.8932, 0.1416],\n",
      "        [0.6660, 0.8416]])\n",
      "tensor([[0.3698, 0.4039],\n",
      "        [0.3571, 0.5528]])\n",
      "\n",
      "tensor([[0.3303, 0.0572],\n",
      "        [0.2378, 0.4652]])\n",
      "\n",
      "tensor([[0.3303, 0.0572],\n",
      "        [0.2378, 0.4652]])\n",
      "\n",
      "tensor([[0.3303, 0.0572],\n",
      "        [0.2378, 0.4652]])\n"
     ]
    }
   ],
   "source": [
    "import torch \n",
    "\n",
    "x = torch.rand(2,2)\n",
    "y = torch.rand(2,2)\n",
    "print(x)\n",
    "print(y)\n",
    "z = x * y\n",
    "z2 = torch.mul(x, y)\n",
    "y.mul_(x)\n",
    "print()\n",
    "print(z)\n",
    "print()\n",
    "print(z2)\n",
    "print()\n",
    "print(y)"
   ]
  },
  {
   "cell_type": "markdown",
   "id": "f2e53751",
   "metadata": {},
   "source": [
    "This coe shows how to divide tensors."
   ]
  },
  {
   "cell_type": "code",
   "execution_count": 39,
   "id": "b57d310d",
   "metadata": {},
   "outputs": [
    {
     "name": "stdout",
     "output_type": "stream",
     "text": [
      "tensor([[0.0350, 0.7984],\n",
      "        [0.4516, 0.4470]])\n",
      "tensor([[0.3928, 0.0174],\n",
      "        [0.1470, 0.4649]])\n",
      "\n",
      "tensor([[ 0.0890, 45.8682],\n",
      "        [ 3.0719,  0.9617]])\n",
      "\n",
      "tensor([[ 0.0890, 45.8682],\n",
      "        [ 3.0719,  0.9617]])\n",
      "\n",
      "tensor([[11.2314,  0.0218],\n",
      "        [ 0.3255,  1.0399]])\n"
     ]
    }
   ],
   "source": [
    "import torch \n",
    "\n",
    "x = torch.rand(2,2)\n",
    "y = torch.rand(2,2)\n",
    "print(x)\n",
    "print(y)\n",
    "z = x / y\n",
    "z2 = torch.div(x, y)\n",
    "y.div_(x)\n",
    "print()\n",
    "print(z)\n",
    "print()\n",
    "print(z2)\n",
    "print()\n",
    "print(y)"
   ]
  },
  {
   "cell_type": "markdown",
   "id": "4bcb3c5c",
   "metadata": {},
   "source": [
    "How to get slices of a tensor."
   ]
  },
  {
   "cell_type": "code",
   "execution_count": 43,
   "id": "feb02371",
   "metadata": {},
   "outputs": [
    {
     "name": "stdout",
     "output_type": "stream",
     "text": [
      "tensor([[0.1390, 0.0753, 0.8398],\n",
      "        [0.6291, 0.7905, 0.2457],\n",
      "        [0.2179, 0.9418, 0.1725],\n",
      "        [0.7672, 0.2528, 0.3217],\n",
      "        [0.0274, 0.1231, 0.5663]])\n",
      "\n",
      "tensor([0.1390, 0.6291, 0.2179, 0.7672, 0.0274])\n",
      "\n",
      "tensor([0.6291, 0.7905, 0.2457])\n",
      "\n",
      "0.7904553413391113\n"
     ]
    }
   ],
   "source": [
    "import torch \n",
    "x = torch.rand(5,3)\n",
    "print(x)\n",
    "print()\n",
    "print(x[:, 0])\n",
    "print()\n",
    "print(x[1, :])\n",
    "print()\n",
    "print(x[1, 1].item())"
   ]
  },
  {
   "cell_type": "markdown",
   "id": "1c58d9b7",
   "metadata": {},
   "source": [
    "reshaping a tensor"
   ]
  },
  {
   "cell_type": "code",
   "execution_count": 49,
   "id": "3b891fe4",
   "metadata": {},
   "outputs": [
    {
     "name": "stdout",
     "output_type": "stream",
     "text": [
      "tensor([[0.8754, 0.2208, 0.7878, 0.4169],\n",
      "        [0.3436, 0.3633, 0.9054, 0.7729],\n",
      "        [0.3998, 0.9058, 0.3081, 0.6685],\n",
      "        [0.6289, 0.8786, 0.0019, 0.8589]])\n",
      "torch.Size([4, 4])\n",
      "tensor([0.8754, 0.2208, 0.7878, 0.4169, 0.3436, 0.3633, 0.9054, 0.7729, 0.3998,\n",
      "        0.9058, 0.3081, 0.6685, 0.6289, 0.8786, 0.0019, 0.8589])\n",
      "torch.Size([16])\n",
      "\n",
      "tensor([[0.8754, 0.2208, 0.7878, 0.4169, 0.3436, 0.3633, 0.9054, 0.7729],\n",
      "        [0.3998, 0.9058, 0.3081, 0.6685, 0.6289, 0.8786, 0.0019, 0.8589]])\n",
      "torch.Size([2, 8])\n"
     ]
    }
   ],
   "source": [
    "import torch\n",
    "\n",
    "x = torch.rand(4,4)\n",
    "print(x)\n",
    "print(x.size())\n",
    "y = x.view(16)\n",
    "print(y)\n",
    "print(y.size())\n",
    "print()\n",
    "y = x.view(-1,8)\n",
    "print(y)\n",
    "print(y.size())"
   ]
  },
  {
   "cell_type": "markdown",
   "id": "97404678",
   "metadata": {},
   "source": [
    "From num_py array to tensor. If the operation is performed on the cpu instead of the gpu the num_py array and tensor will share the same memory location."
   ]
  },
  {
   "cell_type": "code",
   "execution_count": 53,
   "id": "4385e251",
   "metadata": {},
   "outputs": [
    {
     "name": "stdout",
     "output_type": "stream",
     "text": [
      "[1. 1. 1. 1. 1.]\n",
      "tensor([1., 1., 1., 1., 1.], dtype=torch.float64)\n",
      "[2. 2. 2. 2. 2.]\n",
      "tensor([2., 2., 2., 2., 2.], dtype=torch.float64)\n",
      "Device tensor is stored on: cpu\n"
     ]
    }
   ],
   "source": [
    "import torch\n",
    "import numpy as np\n",
    "\n",
    "a = np.ones(5)\n",
    "print(a)\n",
    "b= torch.from_numpy(a)\n",
    "print(b)\n",
    "\n",
    "a+=1\n",
    "print(a)\n",
    "print(b)\n",
    "print(f\"Device tensor is stored on: {b.device}\")\n"
   ]
  },
  {
   "cell_type": "markdown",
   "id": "20e898e4",
   "metadata": {},
   "source": [
    "Show if GPU is available. If so make a tensor on it"
   ]
  },
  {
   "cell_type": "code",
   "execution_count": null,
   "id": "9264d1f2",
   "metadata": {},
   "outputs": [
    {
     "name": "stdout",
     "output_type": "stream",
     "text": [
      "False\n"
     ]
    },
    {
     "ename": "",
     "evalue": "",
     "output_type": "error",
     "traceback": [
      "\u001b[1;31mThe Kernel crashed while executing code in the current cell or a previous cell. \n",
      "\u001b[1;31mPlease review the code in the cell(s) to identify a possible cause of the failure. \n",
      "\u001b[1;31mClick <a href='https://aka.ms/vscodeJupyterKernelCrash'>here</a> for more info. \n",
      "\u001b[1;31mView Jupyter <a href='command:jupyter.viewOutput'>log</a> for further details."
     ]
    }
   ],
   "source": [
    "import torch\n",
    "print(torch.cuda.is_available())\n",
    "if torch.cuda.is_available():\n",
    "    device = torch.device(\"cuda\")\n",
    "    x = torch.ones(5, device=device)\n",
    "    y = torch.ones(5)\n",
    "    y.to(device)\n",
    "    z= x+y\n",
    "    z = z.to(\"cpu\")\n"
   ]
  }
 ],
 "metadata": {
  "kernelspec": {
   "display_name": "Python 3",
   "language": "python",
   "name": "python3"
  },
  "language_info": {
   "codemirror_mode": {
    "name": "ipython",
    "version": 3
   },
   "file_extension": ".py",
   "mimetype": "text/x-python",
   "name": "python",
   "nbconvert_exporter": "python",
   "pygments_lexer": "ipython3",
   "version": "3.10.11"
  }
 },
 "nbformat": 4,
 "nbformat_minor": 5
}
